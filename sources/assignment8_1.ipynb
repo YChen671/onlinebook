{
 "cells": [
  {
   "cell_type": "markdown",
   "id": "8aa39d12-2dd9-40ba-914a-e89f20df5d62",
   "metadata": {},
   "source": [
    "# Final Project - The Data Science Toolbox"
   ]
  },
  {
   "cell_type": "markdown",
   "id": "a1ce77a5-002e-4167-bc28-d27c8fef3c57",
   "metadata": {},
   "source": [
    "Jupiter has a mass of $m_{j| \\approx 1.9 \\times 10^{27} \\: \\text{kg}$.\n",
    "Let's show this as a code block as well:\n",
    "\n",
    "\n",
    "\n",
    "\n",
    "Another was is to have named equations so you can cross-reference them later:\n",
    "```{math}\n",
    ":label: eq_label\n",
    "m_{j} \\approx 1.9 \\times 10^{27} \\: \\text{kg}\n",
    "```\n",
    "\n",
    "Equation {eq}`eq_label` is an example of a named equation."
   ]
  },
  {
   "cell_type": "markdown",
   "id": "bcef8751-198b-4e41-8cb9-a092fd2a5df0",
   "metadata": {},
   "source": [
    "$$\n",
    "  m_{j} \\approx 1.9 \\times 10^{27} \\: \\text{kg|\n",
    "$$"
   ]
  },
  {
   "cell_type": "markdown",
   "id": "da05072f-5473-4caf-a1ed-4ab571dfc827",
   "metadata": {},
   "source": [
    "$$c = \\sqrt{a^2 + b^2}$$"
   ]
  },
  {
   "cell_type": "code",
   "execution_count": null,
   "id": "0037a470-8a18-40fc-ac1b-70be178c36a3",
   "metadata": {
    "tags": [
     "hide-input"
    ]
   },
   "outputs": [],
   "source": [
    "import numpy as np\n",
    "import matplotlib.pyplot as plt\n",
    "\n",
    "data = np.random.randn(2,100)\n",
    "fig, ax = plt.subplots()\n",
    "ax.scatter(*data, c=data[1], s=100*np.abs(data[0]));"
   ]
  },
  {
   "cell_type": "code",
   "execution_count": null,
   "id": "c92c4f47-e1ce-4719-971e-7ce87dd72733",
   "metadata": {},
   "outputs": [],
   "source": [
    "from myst_nb import glue\n",
    "\n",
    "my_number = 43/27.5\n",
    "glue(\"my_key\", my_number, display=False)"
   ]
  },
  {
   "cell_type": "markdown",
   "id": "67f11f61-5f96-41ec-8903-28e5d6a30e45",
   "metadata": {},
   "source": [
    "Here is the value of `my_number` directly inserted into Markdown text using its key: {glue:} `my_key`"
   ]
  },
  {
   "cell_type": "code",
   "execution_count": null,
   "id": "ccbbb71a-56ca-477f-8a83-6f576e4e42b1",
   "metadata": {},
   "outputs": [],
   "source": [
    "import altair as alt\n",
    "import plotly.express as px\n",
    "\n",
    "data = px.data.iris()\n",
    "fig = alt.Chart(data).mark_point().encode(\n",
    "    x=\"sepal_width\",\n",
    "    y=\"sepal_length\",\n",
    "    color=\"species\",\n",
    "    size=\"sepal_length\"\n",
    ").interactive()"
   ]
  },
  {
   "cell_type": "code",
   "execution_count": null,
   "id": "088cf440-6aaa-4b2a-b6e9-239e4b9a914a",
   "metadata": {},
   "outputs": [],
   "source": [
    "fig"
   ]
  },
  {
   "cell_type": "code",
   "execution_count": null,
   "id": "47eed770-f4cb-453d-9c67-3cec5ec83b9f",
   "metadata": {},
   "outputs": [],
   "source": []
  },
  {
   "cell_type": "code",
   "execution_count": null,
   "id": "ae36ce42-39fe-44fb-aef3-7bbca69ac97b",
   "metadata": {},
   "outputs": [],
   "source": []
  }
 ],
 "metadata": {
  "kernelspec": {
   "display_name": "Python 3 (ipykernel)",
   "language": "python",
   "name": "python3"
  },
  "language_info": {
   "codemirror_mode": {
    "name": "ipython",
    "version": 3
   },
   "file_extension": ".py",
   "mimetype": "text/x-python",
   "name": "python",
   "nbconvert_exporter": "python",
   "pygments_lexer": "ipython3",
   "version": "3.9.7"
  }
 },
 "nbformat": 4,
 "nbformat_minor": 5
}
